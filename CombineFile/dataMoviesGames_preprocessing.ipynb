{
 "cells": [
  {
   "cell_type": "code",
   "execution_count": 150,
   "metadata": {},
   "outputs": [
    {
     "data": {
      "text/html": [
       "<div>\n",
       "<style scoped>\n",
       "    .dataframe tbody tr th:only-of-type {\n",
       "        vertical-align: middle;\n",
       "    }\n",
       "\n",
       "    .dataframe tbody tr th {\n",
       "        vertical-align: top;\n",
       "    }\n",
       "\n",
       "    .dataframe thead th {\n",
       "        text-align: right;\n",
       "    }\n",
       "</style>\n",
       "<table border=\"1\" class=\"dataframe\">\n",
       "  <thead>\n",
       "    <tr style=\"text-align: right;\">\n",
       "      <th></th>\n",
       "      <th>movie_title</th>\n",
       "      <th>movie_description</th>\n",
       "      <th>movie_genre</th>\n",
       "    </tr>\n",
       "  </thead>\n",
       "  <tbody>\n",
       "    <tr>\n",
       "      <th>0</th>\n",
       "      <td>刺激1995</td>\n",
       "      <td>銀行家安迪本欲報復外遇的妻子，但在行動之前打消主意，卻不料其妻及其情夫當晚即遭人殺害，安迪遂...</td>\n",
       "      <td>劇情, 犯罪</td>\n",
       "    </tr>\n",
       "    <tr>\n",
       "      <th>1</th>\n",
       "      <td>教父</td>\n",
       "      <td>40年代的美國，“教父”維托·唐·柯里昂是黑手黨柯里昂家族的首領，帶領家族從事非法的勾當，但...</td>\n",
       "      <td>劇情, 犯罪</td>\n",
       "    </tr>\n",
       "    <tr>\n",
       "      <th>2</th>\n",
       "      <td>教父II</td>\n",
       "      <td>影片主要講述第二代教父麥克·柯里昂的奮鬥歷程，同時回憶了第一代教父維多·柯里昂創業的艱辛，反...</td>\n",
       "      <td>劇情, 犯罪</td>\n",
       "    </tr>\n",
       "  </tbody>\n",
       "</table>\n",
       "</div>"
      ],
      "text/plain": [
       "  movie_title                                  movie_description movie_genre\n",
       "0      刺激1995  銀行家安迪本欲報復外遇的妻子，但在行動之前打消主意，卻不料其妻及其情夫當晚即遭人殺害，安迪遂...      劇情, 犯罪\n",
       "1          教父  40年代的美國，“教父”維托·唐·柯里昂是黑手黨柯里昂家族的首領，帶領家族從事非法的勾當，但...      劇情, 犯罪\n",
       "2        教父II  影片主要講述第二代教父麥克·柯里昂的奮鬥歷程，同時回憶了第一代教父維多·柯里昂創業的艱辛，反...      劇情, 犯罪"
      ]
     },
     "execution_count": 150,
     "metadata": {},
     "output_type": "execute_result"
    }
   ],
   "source": [
    "import pandas as pd\n",
    "import os\n",
    "\n",
    "# 取得當前工作目錄 (cwd)\n",
    "cwd = os.getcwd()\n",
    "\n",
    "# 組合成正確的檔案路徑\n",
    "file_path = os.path.join(cwd, \"original_data/dataMovie.xlsx\")\n",
    "\n",
    "# 1. 讀取資料，選擇需要的欄位\n",
    "df = pd.read_excel(file_path)\n",
    "df = df.loc[:, ['movie_title', 'movie_description', 'movie_genre']]\n",
    "df.head(3)"
   ]
  },
  {
   "cell_type": "code",
   "execution_count": 57,
   "metadata": {},
   "outputs": [
    {
     "name": "stdout",
     "output_type": "stream",
     "text": [
      "<class 'pandas.core.frame.DataFrame'>\n",
      "RangeIndex: 9935 entries, 0 to 9934\n",
      "Data columns (total 3 columns):\n",
      " #   Column             Non-Null Count  Dtype \n",
      "---  ------             --------------  ----- \n",
      " 0   movie_title        9935 non-null   object\n",
      " 1   movie_description  7234 non-null   object\n",
      " 2   movie_genre        9931 non-null   object\n",
      "dtypes: object(3)\n",
      "memory usage: 233.0+ KB\n"
     ]
    }
   ],
   "source": [
    "df.info()"
   ]
  },
  {
   "cell_type": "code",
   "execution_count": 58,
   "metadata": {},
   "outputs": [],
   "source": [
    "df = df.dropna()"
   ]
  },
  {
   "cell_type": "code",
   "execution_count": 59,
   "metadata": {},
   "outputs": [
    {
     "name": "stdout",
     "output_type": "stream",
     "text": [
      "<class 'pandas.core.frame.DataFrame'>\n",
      "Index: 7233 entries, 0 to 9933\n",
      "Data columns (total 3 columns):\n",
      " #   Column             Non-Null Count  Dtype \n",
      "---  ------             --------------  ----- \n",
      " 0   movie_title        7233 non-null   object\n",
      " 1   movie_description  7233 non-null   object\n",
      " 2   movie_genre        7233 non-null   object\n",
      "dtypes: object(3)\n",
      "memory usage: 226.0+ KB\n"
     ]
    }
   ],
   "source": [
    "df.info()"
   ]
  },
  {
   "cell_type": "code",
   "execution_count": null,
   "metadata": {},
   "outputs": [],
   "source": [
    "import pandas as pd\n",
    "\n",
    "# 讀取 Movie Excel\n",
    "df = pd.read_excel(\"dataMovie.xlsx\")\n",
    "\n",
    "# 移除空值 NaN\n",
    "df = df.dropna()\n",
    "\n",
    "# # 另存新檔  EXCEL\n",
    "# df.to_excel(\"dataMovie_dropna.xlsx\", index=False)\n",
    "\n",
    "# # 另存新檔為 JSON 並避免中文轉為 Unicode\n",
    "# df.to_json(\"dataMovie_dropna.json\", orient='records', force_ascii=False, index=False)\n",
    "\n",
    "# 另存新檔為 CSV 並避免中文轉為 Unicode\n",
    "df.to_csv(\"dataMovie_dropna.csv\", encoding=\"utf-8-sig\", index=False)\n",
    "\n",
    "print(\"已將清理後的資料另存為 dataMovie_dropna.xlsx\")"
   ]
  },
  {
   "cell_type": "code",
   "execution_count": 73,
   "metadata": {},
   "outputs": [],
   "source": [
    "df = df.loc[:, ['movie_title', 'movie_description', 'movie_genre']]"
   ]
  },
  {
   "cell_type": "code",
   "execution_count": 74,
   "metadata": {},
   "outputs": [
    {
     "name": "stdout",
     "output_type": "stream",
     "text": [
      "<class 'pandas.core.frame.DataFrame'>\n",
      "Index: 7232 entries, 0 to 9933\n",
      "Data columns (total 3 columns):\n",
      " #   Column             Non-Null Count  Dtype \n",
      "---  ------             --------------  ----- \n",
      " 0   movie_title        7232 non-null   object\n",
      " 1   movie_description  7232 non-null   object\n",
      " 2   movie_genre        7232 non-null   object\n",
      "dtypes: object(3)\n",
      "memory usage: 226.0+ KB\n"
     ]
    }
   ],
   "source": [
    "df.info()"
   ]
  },
  {
   "cell_type": "code",
   "execution_count": 78,
   "metadata": {},
   "outputs": [
    {
     "name": "stdout",
     "output_type": "stream",
     "text": [
      "已將清理後的資料另存為 dataGame_dropna.csv\n"
     ]
    }
   ],
   "source": [
    "import pandas as pd\n",
    "\n",
    "# 讀取 Game Excel\n",
    "df = pd.read_excel(\"dataGame.xlsx\")\n",
    "\n",
    "# 移除顯示為 \"無簡介\" 的行（假設簡介欄位名稱為 'game_description'）\n",
    "df = df[df['game_description'] != '無簡介']\n",
    "\n",
    "# 另存新檔為 csv 並避免中文轉為 Unicode\n",
    "df.to_csv(\"dataGame_dropna.csv\", encoding=\"utf-8-sig\", index=False)\n",
    "\n",
    "# # 另存新檔  EXCEL\n",
    "# df.to_excel(\"dataGame_dropna.xlsx\", index=False)\n",
    "\n",
    "# # 另存新檔為 JSON 並避免中文轉為 Unicode\n",
    "# df.to_json(\"dataGame_dropna.json\", orient='records', force_ascii=False, index=False)\n",
    "\n",
    "print(\"已將清理後的資料另存為 dataGame_dropna.csv\")"
   ]
  },
  {
   "cell_type": "code",
   "execution_count": 79,
   "metadata": {},
   "outputs": [
    {
     "name": "stdout",
     "output_type": "stream",
     "text": [
      "<class 'pandas.core.frame.DataFrame'>\n",
      "Index: 11912 entries, 0 to 13206\n",
      "Data columns (total 9 columns):\n",
      " #   Column            Non-Null Count  Dtype \n",
      "---  ------            --------------  ----- \n",
      " 0   id                11912 non-null  int64 \n",
      " 1   game_title        11912 non-null  object\n",
      " 2   game_platform     11912 non-null  object\n",
      " 3   game_genre        11912 non-null  object\n",
      " 4   release_date      11912 non-null  object\n",
      " 5   game_production   11904 non-null  object\n",
      " 6   game_description  11902 non-null  object\n",
      " 7   poster            11912 non-null  object\n",
      " 8   英文標題              1063 non-null   object\n",
      "dtypes: int64(1), object(8)\n",
      "memory usage: 930.6+ KB\n"
     ]
    }
   ],
   "source": [
    "df.info()"
   ]
  },
  {
   "cell_type": "code",
   "execution_count": 148,
   "metadata": {},
   "outputs": [
    {
     "name": "stdout",
     "output_type": "stream",
     "text": [
      "目前工作目錄: c:\\Users\\User\\Desktop\\TMDB_ByPython\\CombineFile\n",
      "True\n"
     ]
    }
   ],
   "source": [
    "import os\n",
    "print(\"目前工作目錄:\", os.getcwd())\n",
    "print(os.path.exists(\"original_data/dataMovie_dropna.csv\"))"
   ]
  },
  {
   "cell_type": "code",
   "execution_count": 141,
   "metadata": {},
   "outputs": [
    {
     "name": "stdout",
     "output_type": "stream",
     "text": [
      "最佳匹配: 玩命關頭 (相似度: 100)\n"
     ]
    }
   ],
   "source": [
    "import pandas as pd\n",
    "from fuzzywuzzy import process\n",
    "import os\n",
    "\n",
    "# 取得當前工作目錄 (cwd)\n",
    "cwd = os.getcwd()\n",
    "\n",
    "# 組合成正確的檔案路徑\n",
    "file_path = os.path.join(cwd, \"original_data/dataMovie_dropna.csv\")\n",
    "\n",
    "# 讀取 csv 檔案\n",
    "df = pd.read_csv(file_path)\n",
    "\n",
    "# TEST - 用戶輸入的關鍵字 電影\n",
    "user_input = \"玩命關頭\"\n",
    "\n",
    "# 取得最相似的電影名稱\n",
    "best_match = process.extractOne(user_input, df[\"movie_title\"])\n",
    "\n",
    "print(f\"最佳匹配: {best_match[0]} (相似度: {best_match[1]})\")"
   ]
  },
  {
   "cell_type": "code",
   "execution_count": 171,
   "metadata": {},
   "outputs": [
    {
     "name": "stdout",
     "output_type": "stream",
     "text": [
      "最佳匹配: 獅子王 (相似度: 100)\n"
     ]
    }
   ],
   "source": [
    "import pandas as pd\n",
    "from fuzzywuzzy import process\n",
    "import os\n",
    "\n",
    "# 取得當前工作目錄 (cwd)\n",
    "cwd = os.getcwd()\n",
    "\n",
    "# 組合成正確的檔案路徑\n",
    "file_path = os.path.join(cwd, \"original_data/dataGame_dropna.csv\")\n",
    "\n",
    "# 讀取 csv 檔案\n",
    "df = pd.read_csv(file_path)\n",
    "\n",
    "# TEST - 用戶輸入的關鍵字 遊戲\n",
    "user_input = \"獅子王\"\n",
    "\n",
    "# 取得最相似的遊戲名稱\n",
    "best_match = process.extractOne(user_input, df[\"game_title\"])\n",
    "\n",
    "print(f\"最佳匹配: {best_match[0]} (相似度: {best_match[1]})\")\n"
   ]
  },
  {
   "cell_type": "code",
   "execution_count": 106,
   "metadata": {},
   "outputs": [
    {
     "name": "stdout",
     "output_type": "stream",
     "text": [
      "  movie_title   動作  冒險  劇情  動作  動畫  喜劇  奇幻  奇幻,冒險  奇幻,劇情  ...  科幻,恐怖  科幻,愛情  \\\n",
      "0      刺激1995    0   0   1   0   0   0   0      0      0  ...      0      0   \n",
      "1          教父    0   0   1   0   0   0   0      0      0  ...      0      0   \n",
      "2        教父II    0   0   1   0   0   0   0      0      0  ...      0      0   \n",
      "\n",
      "   科幻,懸疑  科幻,戰爭  科幻,電視  科幻,驚悚  西部  電視  音樂  驚悚  \n",
      "0      0      0      0      0   0   0   0   0  \n",
      "1      0      0      0      0   0   0   0   0  \n",
      "2      0      0      0      0   0   0   0   0  \n",
      "\n",
      "[3 rows x 42 columns]\n",
      "已成功將 movie_title 與 One-Hot Encoding 的類型存為 dataMovie_dropna_one_hot.csv\n"
     ]
    }
   ],
   "source": [
    "import pandas as pd\n",
    "from sklearn.preprocessing import MultiLabelBinarizer\n",
    "import os\n",
    "\n",
    "# 取得當前工作目錄 (cwd)\n",
    "cwd = os.getcwd()\n",
    "\n",
    "# 組合成正確的檔案路徑\n",
    "file_path = os.path.join(cwd, \"original_data/dataMovie_dropna.csv\")\n",
    "one_hot_path = os.path.join(cwd, \"original_data/dataMovie_dropna_one_hot.csv\")\n",
    "\n",
    "# 讀取 CSV\n",
    "df = pd.read_csv(file_path)\n",
    "\n",
    "# 確保 genre 欄位是字串並轉為列表\n",
    "df[\"movie_genre\"] = df[\"movie_genre\"].astype(str).apply(lambda x: x.split(\", \"))\n",
    "\n",
    "# 使用 MultiLabelBinarizer 進行 One-Hot Encoding\n",
    "mlb = MultiLabelBinarizer()\n",
    "genre_matrix = mlb.fit_transform(df[\"movie_genre\"])\n",
    "\n",
    "# 取得 **唯一** 類型名稱，去除重複組合類型 (例如 \"奇幻, 冒險\" 變成 \"奇幻\" 和 \"冒險\")\n",
    "unique_genres = sorted(set(g for genres in df[\"movie_genre\"] for g in genres))\n",
    "\n",
    "# 轉為 DataFrame，並確保欄位順序正確\n",
    "genre_df = pd.DataFrame(genre_matrix, columns=mlb.classes_)[unique_genres]\n",
    "\n",
    "# 合併 movie_title 與 One-Hot Encoding 的類型\n",
    "df_selected = pd.concat([df[\"movie_title\"], genre_df], axis=1)\n",
    "\n",
    "# 另存新檔為 CSV，確保中文正常顯示\n",
    "df_selected.to_csv(one_hot_path, encoding=\"utf-8-sig\", index=False)\n",
    "\n",
    "print(df_selected.head(3))\n",
    "\n",
    "print(\"已成功將 movie_title 與 One-Hot Encoding 的類型存為 dataMovie_dropna_one_hot.csv\")"
   ]
  },
  {
   "cell_type": "code",
   "execution_count": 105,
   "metadata": {},
   "outputs": [
    {
     "name": "stdout",
     "output_type": "stream",
     "text": [
      "  game_title  2D動作射擊  2D橫版射擊  F2PMMO  MMOFPS  MMORPG  MMOTSG  MMO動作  MOBA  \\\n",
      "0   魔域帝國Zork       0       0       0       0       0       0      0     0   \n",
      "1      魔域帝國2       0       0       0       0       0       0      0     0   \n",
      "2        小蜜蜂       0       0       0       0       0       0      0     0   \n",
      "\n",
      "   MOBA射擊  ...  音樂  音樂模擬  音樂遊戲  飛行射擊  飛行模擬  體育  體育模擬  體育競技  體育遊戲  體育運動  \n",
      "0       0  ...   0     0     0     0     0   0     0     0     0     0  \n",
      "1       0  ...   0     0     0     0     0   0     0     0     0     0  \n",
      "2       0  ...   0     0     0     1     0   0     0     0     0     0  \n",
      "\n",
      "[3 rows x 81 columns]\n",
      "已將 game_title 與 genre One-Hot Encoding 結果另存為 dataGame_dropna_one_hot.csv\n"
     ]
    }
   ],
   "source": [
    "import pandas as pd\n",
    "from sklearn.preprocessing import MultiLabelBinarizer\n",
    "import os\n",
    "\n",
    "# 取得當前工作目錄 (cwd)\n",
    "cwd = os.getcwd()\n",
    "\n",
    "# 組合成正確的檔案路徑\n",
    "file_path = os.path.join(cwd, \"original_data/dataGame_dropna.csv\")\n",
    "one_hot_path = os.path.join(cwd, \"original_data/dataGame_dropna_one_hot.csv\")\n",
    "\n",
    "# 讀取 CSV\n",
    "df = pd.read_csv(file_path)\n",
    "\n",
    "# 假設 \"Genre\" 欄位是以逗號分隔的類別，例如 \"射擊, 策略\"\n",
    "df[\"game_genre\"] = df[\"game_genre\"].astype(str).apply(lambda x: x.split(\", \"))\n",
    "\n",
    "# 使用 MultiLabelBinarizer 進行 One-Hot Encoding\n",
    "mlb = MultiLabelBinarizer()\n",
    "genre_matrix = mlb.fit_transform(df[\"game_genre\"])\n",
    "\n",
    "# 取得 **唯一** 類型名稱，去除重複組合類型 (例如 \"奇幻, 冒險\" 變成 \"奇幻\" 和 \"冒險\")\n",
    "unique_genres = sorted(set(g for genres in df[\"game_genre\"] for g in genres))\n",
    "\n",
    "# 轉為 DataFrame，並確保欄位順序正確\n",
    "genre_df = pd.DataFrame(genre_matrix, columns=mlb.classes_)[unique_genres]\n",
    "\n",
    "# 只保留 game_title 和 One-Hot Encoding 後的 genre 欄位\n",
    "df_selected = pd.concat([df[\"game_title\"], genre_df], axis=1)\n",
    "\n",
    "# 另存新檔為 CSV，確保中文正常顯示\n",
    "df_selected.to_csv(one_hot_path, encoding=\"utf-8-sig\", index=False)\n",
    "\n",
    "# 顯示結果\n",
    "print(df_selected.head(3))\n",
    "\n",
    "print(\"已將 game_title 與 genre One-Hot Encoding 結果另存為 dataGame_dropna_one_hot.csv\")"
   ]
  },
  {
   "cell_type": "code",
   "execution_count": 124,
   "metadata": {},
   "outputs": [
    {
     "name": "stdout",
     "output_type": "stream",
     "text": [
      "  movie_title movie_genre\n",
      "0      刺激1995      劇情, 犯罪\n",
      "1          教父      劇情, 犯罪\n",
      "2        教父II      劇情, 犯罪\n",
      "已將 movie_title 與 movie_genre 結果另存為 dataMovie_title_genre.csv\n"
     ]
    }
   ],
   "source": [
    "import pandas as pd\n",
    "import os\n",
    "\n",
    "# 取得當前工作目錄 (cwd)\n",
    "cwd = os.getcwd()\n",
    "\n",
    "# 組合成正確的檔案路徑\n",
    "file_path = os.path.join(cwd, \"original_data/dataMovie_dropna.csv\")\n",
    "title_genre_path = os.path.join(cwd, \"original_data/dataMovie_title_genre.csv\")\n",
    "\n",
    "# 讀取 CSV Movie\n",
    "df = pd.read_csv(file_path)\n",
    "\n",
    "df = df.loc[:, ['movie_title', 'movie_genre']]\n",
    "\n",
    "df.to_csv(title_genre_path, encoding=\"utf-8-sig\", index=False)\n",
    "\n",
    "# 顯示結果\n",
    "print(df.head(3))\n",
    "\n",
    "print(\"已將 movie_title 與 movie_genre 結果另存為 dataMovie_title_genre.csv\")\n"
   ]
  },
  {
   "cell_type": "code",
   "execution_count": 154,
   "metadata": {},
   "outputs": [
    {
     "name": "stdout",
     "output_type": "stream",
     "text": [
      "  game_title game_genre\n",
      "0   魔域帝國Zork       冒險遊戲\n",
      "1      魔域帝國2       冒險遊戲\n",
      "2        小蜜蜂       飛行射擊\n",
      "已將 game_title 與 game_genre 結果另存為 dataGame_title_genre.csv\n"
     ]
    }
   ],
   "source": [
    "import pandas as pd\n",
    "from sklearn.preprocessing import MultiLabelBinarizer\n",
    "\n",
    "# 取得當前工作目錄 (cwd)\n",
    "cwd = os.getcwd()\n",
    "\n",
    "# 組合成正確的檔案路徑\n",
    "file_path = os.path.join(cwd, \"original_data/dataGame_dropna.csv\")\n",
    "title_genre_path = os.path.join(cwd, \"original_data/dataGame_title_genre.csv\")\n",
    "\n",
    "# 讀取 CSV Movie\n",
    "df = pd.read_csv(file_path)\n",
    "\n",
    "df = df.loc[:, ['game_title', 'game_genre']]\n",
    "\n",
    "df.to_csv(title_genre_path, encoding=\"utf-8-sig\", index=False)\n",
    "\n",
    "# 顯示結果\n",
    "print(df.head(3))\n",
    "\n",
    "print(\"已將 game_title 與 game_genre 結果另存為 dataGame_title_genre.csv\")"
   ]
  },
  {
   "cell_type": "code",
   "execution_count": null,
   "metadata": {},
   "outputs": [],
   "source": [
    "import pandas as pd\n",
    "from sklearn.preprocessing import MultiLabelBinarizer\n",
    "\n",
    "# 取得當前工作目錄 (cwd)\n",
    "cwd = os.getcwd()\n",
    "\n",
    "# 組合成正確的檔案路徑\n",
    "file_path = os.path.join(cwd, \"original_data/dataGame_dropna.csv\")\n",
    "\n",
    "# 讀取 CSV\n",
    "df = pd.read_csv(file_path)\n",
    "\n",
    "# 假設 \"Genre\" 欄位是以逗號分隔的類別，例如 \"科幻, 冒險\"\n",
    "df[\"game_genre\"] = df[\"game_genre\"].astype(str).apply(lambda x: x.split(\", \"))\n",
    "\n",
    "\n",
    "# 使用 MultiLabelBinarizer 進行 One-Hot Encoding\n",
    "mlb = MultiLabelBinarizer()\n",
    "genre_matrix = mlb.fit_transform(df[\"game_genre\"])\n",
    "\n",
    "# 轉為 DataFrame\n",
    "genre_df = pd.DataFrame(genre_matrix, columns=mlb.classes_)\n",
    "\n",
    "# 合併回原始 DataFrame\n",
    "df = df.join(genre_df)\n",
    "\n",
    "# 顯示結果\n",
    "print(df.head(3))"
   ]
  },
  {
   "cell_type": "code",
   "execution_count": null,
   "metadata": {},
   "outputs": [],
   "source": [
    "import pandas as pd\n",
    "\n",
    "# 取得當前工作目錄 (cwd)\n",
    "cwd = os.getcwd()\n",
    "\n",
    "# 組合成正確的檔案路徑\n",
    "file_path = os.path.join(cwd, \"original_data/dataMovie_dropna_one_hot.csv\")\n",
    "\n",
    "# 讀取 CSV\n",
    "df = pd.read_csv(file_path)\n",
    "\n",
    "# 檢查 DataFrame 結構\n",
    "print(df.info())\n",
    "\n",
    "# 確認 One-Hot Encoding 的欄位名稱\n",
    "genre_columns = [col for col in df.columns if col not in ['movie_title']]\n",
    "\n",
    "# 將 One-Hot Encoding 的欄位轉換為文件 (Document) 列表\n",
    "corpus = []\n",
    "for index, row in df.iterrows():\n",
    "    genres = [col for col in genre_columns if row[col] == 1]  # 獲取值為1的欄位名稱\n",
    "    corpus.append(\" \".join(genres))\n",
    "\n",
    "# 顯示前幾個文件\n",
    "print(corpus[:5])"
   ]
  },
  {
   "cell_type": "code",
   "execution_count": 135,
   "metadata": {},
   "outputs": [
    {
     "name": "stdout",
     "output_type": "stream",
     "text": [
      "<class 'pandas.core.frame.DataFrame'>\n",
      "RangeIndex: 7232 entries, 0 to 7231\n",
      "Data columns (total 2 columns):\n",
      " #   Column       Non-Null Count  Dtype \n",
      "---  ------       --------------  ----- \n",
      " 0   movie_title  7232 non-null   object\n",
      " 1   movie_genre  7232 non-null   object\n",
      "dtypes: object(2)\n",
      "memory usage: 113.1+ KB\n",
      "None\n"
     ]
    }
   ],
   "source": [
    "import pandas as pd\n",
    "\n",
    "# 取得當前工作目錄 (cwd)\n",
    "cwd = os.getcwd()\n",
    "\n",
    "# 組合成正確的檔案路徑\n",
    "file_path = os.path.join(cwd, \"original_data/dataMovie_title_genre.csv\")\n",
    "\n",
    "# 讀取 CSV\n",
    "df = pd.read_csv(file_path)\n",
    "\n",
    "print(df.info())  # 檢查 DataFrame 結構"
   ]
  },
  {
   "cell_type": "code",
   "execution_count": 159,
   "metadata": {},
   "outputs": [
    {
     "name": "stdout",
     "output_type": "stream",
     "text": [
      "相關電影: 星際大戰五部曲：帝國大反擊 (分數: 4.239241330424758)\n",
      "相關電影: 全面啟動 (分數: 4.239241330424758)\n",
      "相關電影: 復仇者聯盟：終局之戰 (分數: 4.239241330424758)\n",
      "相關電影: 復仇者聯盟：無限之戰 (分數: 4.239241330424758)\n",
      "相關電影: 星際大戰四部曲：曙光乍現 (分數: 4.239241330424758)\n",
      "相關電影: 星際異攻隊3 (分數: 4.239241330424758)\n",
      "相關電影: 蜘蛛人：無家日 (分數: 4.239241330424758)\n",
      "相關電影: 星際異攻隊 (分數: 4.239241330424758)\n",
      "相關電影: 星際大戰六部曲：絕地大反攻 (分數: 4.239241330424758)\n",
      "相關電影: 媽的多重宇宙 (分數: 4.239241330424758)\n"
     ]
    }
   ],
   "source": [
    "import jieba\n",
    "from rank_bm25 import BM25Okapi\n",
    "import os\n",
    "\n",
    "# 取得當前工作目錄 (cwd)\n",
    "cwd = os.getcwd()\n",
    "\n",
    "# 組合成正確的檔案路徑\n",
    "file_path = os.path.join(cwd, \"original_data/dataMovie_title_genre.csv\")\n",
    "\n",
    "# 讀取 CSV\n",
    "df = pd.read_csv(file_path)\n",
    "\n",
    "# 確保 movie_genre 欄位存在\n",
    "if 'movie_genre' not in df.columns:\n",
    "    raise KeyError(\"DataFrame 中缺少 'movie_genre' 欄位\")\n",
    "\n",
    "# === 2️⃣ 建立 BM25 模型來處理電影類型檢索 ===\n",
    "genre_corpus = [\" \".join(genres.split(\", \")) for genres in df[\"movie_genre\"].tolist()]  # 把類型合併成字串\n",
    "tokenized_genre_corpus = [doc.split() for doc in genre_corpus]  # 分詞 (直接根據空格切割)\n",
    "bm25_genre = BM25Okapi(tokenized_genre_corpus)  # 建立 BM25 模型\n",
    "\n",
    "\n",
    "# 用戶輸入\n",
    "user_query = \"科幻 動作 冒險\"\n",
    "tokenized_query = list(jieba.cut(user_query))\n",
    "\n",
    "# 計算 BM25 分數\n",
    "scores = bm25_genre.get_scores(tokenized_query)\n",
    "\n",
    "# 找到最相關的電影\n",
    "top_k = 10  # 取前 10 筆\n",
    "top_indices = sorted(range(len(scores)), key=lambda i: scores[i], reverse=True)[:top_k]\n",
    "\n",
    "# 輸出結果\n",
    "for idx in top_indices:\n",
    "    print(f\"相關電影: {df.iloc[idx]['movie_title']} (分數: {scores[idx]})\")\n"
   ]
  },
  {
   "cell_type": "code",
   "execution_count": null,
   "metadata": {},
   "outputs": [],
   "source": [
    "import pandas as pd\n",
    "import re\n",
    "\n",
    "# 取得當前工作目錄 (cwd)\n",
    "cwd = os.getcwd()\n",
    "\n",
    "# 組合成正確的檔案路徑\n",
    "file_path = os.path.join(cwd, \"original_data/dataMovie_dropna.csv\")\n",
    "\n",
    "# 讀取 CSV\n",
    "df = pd.read_csv(file_path)\n",
    "\n",
    "# 定義正則表達式，匹配 () 或 （）\n",
    "pattern = r\"[()（）]\"\n",
    "\n",
    "# 移除 \"電影簡述\" 欄位中的括號\n",
    "df[\"movie_description\"] = df[\"movie_description\"].apply(lambda x: re.sub(pattern, \"\", str(x)))\n",
    "\n",
    "# 存成新的 Excel 檔案\n",
    "new_file_path = os.path.join(cwd, \"original_data/dataMovie_移除NaN括號.csv\")\n",
    "df.to_csv(new_file_path, index=False)\n",
    "\n",
    "print(f\"處理完成，檔案已儲存為 {new_file_path}\")"
   ]
  },
  {
   "cell_type": "code",
   "execution_count": 99,
   "metadata": {},
   "outputs": [
    {
     "name": "stdout",
     "output_type": "stream",
     "text": [
      "第 1 筆: 銀行家 安迪 本欲 報復 外遇 妻子 行動 之前 打消 主意 其妻 及其 情夫 遭人 殺害 安迪 遂 被判 無期徒刑 鯊堡監獄   獄 中 安迪 事 黑市交易 囚犯 雷並 其他 囚犯 慢慢 熟稔 這同 時 安迪 以 專業知識 逐步 引導 監獄 中 生活 事情 開始 轉變 年 鐵窗生涯 安迪 看透 監獄官僚 貪污腐敗 虛偽 詭計 圈套 體會 還其 清白之身 唯有 逃獄 一 途\n",
      "第 2 筆: 年代 美國 教父 維托 唐柯 里昂 黑手黨 柯里昂家族 首領 帶領 家族 從事 非法 勾當 同時 弱小平民 保護神 深得 人們 愛戴   拒絕 毒 梟 索洛索 毒品交易 要求 柯里昂家族 紐約 其他 幾個 黑手黨 家族 矛盾激化 聖誕 前夕 索洛索 劫持 教父 參謀 湯姆 並派 人 暗殺 教父 內奸 出賣 教父 大兒子 遜尼 仇家 殺害 小兒子 麥克 捲 進來 失去愛妻 黑手黨 家族 矛盾 越來 越 白熱化   年老 教父 面對 喪子之痛 怎樣 統領全局 黑手黨 仇 殺 落幕 家族 內奸 能夠 新一代 教父   血雨腥風 溫情脈脈 里程碑式 黑幫 史詩 巨片 裡 真實 上演\n",
      "第 3 筆: 第二代 教父 麥克 柯 里昂 奮鬥歷程 同時 回憶 第一代 教父 維多柯里昂 創業 艱辛 反映 不同 歷史 時期 兩代 教父 事業 家庭生活   麥克 為 兒子 托尼舉 行聖餐 儀式 慶祝活動 當夜 麥克 家中 遭到 襲擊 兇手 被人滅口 面臨 接管 家族事業 重重危機 麥克 回憶 父親 維多柯里昂 年 輕時 美國 創業歷程   麥克 一邊 調查 襲擊 真相 一邊 繼續 開展 賭博 酒店 等 生意 另 黑幫人物 海門羅斯 鬥智斗勇 不斷 擴大勢力   終於 麥克 不法行為 引起 政府 關注 麥克 受到 一系列 指控 同時 麥克 家庭 遇到 危機 夫妻感情 瀕臨破裂 麥克 痛心 家族 中親 人 背叛 第一代 教父 其樂融融 家庭生活 比起 麥克 無疑 失敗   麥克 怎麼樣 面對 事業 家庭 雙重危機 為 兩代 教父 截然不同 家庭生活 中尋找 答案\n",
      "斷詞結果已存成 Excel，請檢查並修改。\n"
     ]
    }
   ],
   "source": [
    "# 匯入套件\n",
    "import jieba\n",
    "import pandas as pd\n",
    "\n",
    "# 加載自定義詞典，避免錯誤切詞\n",
    "jieba.load_userdict(\"custom_dict.txt\")  # 建立自定義詞典\n",
    "\n",
    "# 常見中文停用詞列表\n",
    "stop_words = set([\n",
    "    '的', '了', '是', '在', '和', '也', '有', '就', '都', '與', '及', '或', '而', '於', '被', '因', '欲', '其',\n",
    "    '由', '不', '我們', '你們', '他們', '她們', '它們', '自己', '這', '那', '哪', '什麼', '怎麼', '如何', '這次', \n",
    "    '為什麼', '呢', '嗎', '吧', '頃刻間', '片中', '即將', '多多', '只能', '如', '哼', '呃', '嗯', '他', '哈哈', '噢', \n",
    "    '最', '很', '之間', '不料', '影片', '主要', '講述', '當晚', '本', '嘿喲', '這個', '那個', '這樣', '那樣',\n",
    "    '某', '每', '各', '所有', '一些', '幾乎', '幾', '仍然', '仍', '既', '又', '還', '但是', '然而', '所以', '除了',\n",
    "    '因此', '不過', '雖然', '儘管', '如果', '即使', '除非', '或者', '要麼', '不僅', '而且', '此外', '比如',\n",
    "    '例如', '像', '以及', '甚至', '再者', '總之', '其實', '基本上', '大約', '大概', '或者', '或許', '可能', \n",
    "    '應該', '必須', '需要', '得', '能', '可以', '會', '要', '讓', '叫', '成', '給', '向', '跟', '從', \n",
    "    '把', '並', '只', '僅', '只是', '才', '即', '乃', '原來', '正是', '簡直', '真是', '特別', '尤其', '倒是', \n",
    "    '反而', '反過來', '一種','一位', '一名', '一個', '一株', '一台', '一艘', '無論', '不管', '無法', '無法避免',\n",
    "    '無法拒絕', '是否', '既然', '當然', '果然', '還是', '或者', '以至於', '因此', '因而', '甚至於', '並且', '不然', \n",
    "    '否則', '不如', '不僅如此', '換句話說', '例如', '比如', '拿...來說', '正如', '正所謂', '話說回來', '另一個',\n",
    "    '進而', '另外', '不過', '還有', '既然', '然而', '總而言之', '總的來說', '總之', '即便', '哪怕', '一場', '一段', \n",
    "    '雖然', '儘管', '至於', '則', '反之', '因為', '為了', '由於', '所以', '於是', '假如', '如果', '它', '劇情描述', \n",
    "    '要是', '可是', '但', '但是', '然而', '卻', '不過', '只不過', '而已', '除非', '以免', '免得', '竟然', '劇情', \n",
    "    '一輛', '一部', '來了之後', '一天', '以其', '一份', '我', '想', '但只要', '當然', '這讓', '本片', '這是', '牠們', '牠', '她', '背景設定', '講述', '電影描述', '故事描述', '劇情敘述', '敘述', '講述', '大家', '各位', '某人', '某些人', '某事', '某種', '這些', '那些', '如此', '這般', '那般', '這時', '那時', '這裡', '那裡', '何時', '何地', '哪裡', '誰', '某個', '某位', '今天', '昨天', '明天', '後天', '大前天', '大後天', '今年', '去年', '明年', '前天', '這時候', '此刻', '剛才', '剛剛', '頃刻', '瞬間', '一會兒', '等會兒', '頃', '不久', '過去', '當年', '長久', '以來', '一點', '一滴', '一絲', '一些', '一堆', '一群', '一批', '一段', '一會兒', '數個', '數十', '數百', '很多', '無數', '千萬', '若干', '一整天', '整個', '大部分', '半數', '少許', '部分', '許多', '幾年', '多年', '數年',  '來', '去', '走', '做', '幹', '進', '出', '到', '看', '聽', '說', '問', '答', '告訴', '回', '開', '關', '起', '坐', '站', '跑', '跳', '拉', '推', '扔', '拿', '給', '帶', '進入', '離開', '變成', '成為', '擁有', '獲得', '得到', '感覺', '覺得', '知道', '了解', '認識', '發現', '明白', '想', '思考', '希望', '簡直', '完全', '十分', '非常', '特別', '極其', '格外', '無比', '超級', '極端', '萬分', '相當', '故事', '影片', '內容', '電影', '描述', '情節', '劇情', '本片', '這部', '這場', '這件', '這部電影', '該片', '本作', '此片', '該電影', '全片', '該作', '這款', '這本', '該故事', '這是一部', '這是一個', '最後', '彼此', '漸漸', '越來越'\n",
    "])\n",
    "\n",
    "# 讀取 Excel\n",
    "df = pd.read_excel(\"dataMovie.xlsx\")\n",
    "\n",
    "# 移除 NaN\n",
    "df = df.dropna()\n",
    "\n",
    "# 確保 \"movie_description\" 欄位為字串類型\n",
    "df[\"movie_description\"] = df[\"movie_description\"].astype(str)\n",
    "\n",
    "# 文本清洗（移除標點符號與數字，但保留空格）\n",
    "def clean_text(text):\n",
    "    return ''.join(c if c.isalpha() or c.isspace() else '' for c in text)\n",
    "\n",
    "df[\"cleaned_description\"] = df[\"movie_description\"].apply(clean_text)\n",
    "\n",
    "# 斷詞並過濾停用詞\n",
    "df[\"tokenized_corpus\"] = df[\"cleaned_description\"].apply(\n",
    "    lambda x: \" \".join([word for word in jieba.cut(x) if word not in stop_words])\n",
    ")\n",
    "\n",
    "# 顯示前三筆斷詞結果\n",
    "for i in range(3):\n",
    "    print(f\"第 {i+1} 筆: {df.iloc[i]['tokenized_corpus']}\")\n",
    "\n",
    "# 存成 Excel 方便人工檢查\n",
    "df[[\"movie_title\", \"tokenized_corpus\"]].to_excel(\"tokenized_descriptions.xlsx\", index=False)\n",
    "\n",
    "print(\"斷詞結果已存成 Excel，請檢查並修改。\")"
   ]
  },
  {
   "cell_type": "code",
   "execution_count": 165,
   "metadata": {},
   "outputs": [
    {
     "name": "stdout",
     "output_type": "stream",
     "text": [
      "相關電影: 回憶積木屋 (分數: 3.5137169024244908)\n",
      "相關電影: 同級生 劇場版 (分數: 3.098333507283713)\n",
      "相關電影: 藍色恐懼 (分數: 3.098333507283713)\n"
     ]
    }
   ],
   "source": [
    "import pandas as pd\n",
    "import jieba\n",
    "from rank_bm25 import BM25Okapi\n",
    "import os\n",
    "\n",
    "# 取得當前工作目錄 (cwd)\n",
    "cwd = os.getcwd()\n",
    "\n",
    "# 組合成正確的檔案路徑\n",
    "file_path = os.path.join(cwd, \"original_data/dataMovie_dropna.csv\")\n",
    "\n",
    "# 讀取 CSV\n",
    "df = pd.read_csv(file_path)\n",
    "\n",
    "# 取得簡述欄位\n",
    "descriptions = df[\"movie_genre\"].astype(str).tolist()\n",
    "\n",
    "# 斷詞處理\n",
    "tokenized_corpus = [list(jieba.cut(desc)) for desc in descriptions]\n",
    "\n",
    "# 建立 BM25 模型\n",
    "bm25 = BM25Okapi(tokenized_corpus)\n",
    "\n",
    "# 用戶輸入\n",
    "user_query = \"荒野機器人 動畫\"\n",
    "tokenized_query = list(jieba.cut(user_query))\n",
    "\n",
    "# 計算 BM25 分數\n",
    "scores = bm25.get_scores(tokenized_query)\n",
    "\n",
    "# 找到最相關的電影\n",
    "top_k = 3  # 取前 3 筆\n",
    "top_indices = sorted(range(len(scores)), key=lambda i: scores[i], reverse=True)[:top_k]\n",
    "\n",
    "# 輸出結果\n",
    "for idx in top_indices:\n",
    "    print(f\"相關電影: {df.iloc[idx]['movie_title']} (分數: {scores[idx]})\")\n"
   ]
  },
  {
   "cell_type": "code",
   "execution_count": 166,
   "metadata": {},
   "outputs": [
    {
     "name": "stdout",
     "output_type": "stream",
     "text": [
      "相關電影: 軒轅劍3 (分數: 22.442538123865788)\n",
      "相關電影: 軒轅劍外傳：楓之舞 (分數: 21.39945838535746)\n",
      "相關電影: 街頭霸王5 (分數: 19.02561146371532)\n"
     ]
    }
   ],
   "source": [
    "import pandas as pd\n",
    "import jieba\n",
    "from rank_bm25 import BM25Okapi\n",
    "import os\n",
    "\n",
    "# 取得當前工作目錄 (cwd)\n",
    "cwd = os.getcwd()\n",
    "\n",
    "# 組合成正確的檔案路徑\n",
    "file_path = os.path.join(cwd, \"original_data/dataGame_dropna.csv\")\n",
    "\n",
    "# 讀取 CSV\n",
    "df = pd.read_csv(file_path)\n",
    "\n",
    "# 取得簡述欄位\n",
    "descriptions = df[\"game_description\"].dropna().astype(str).tolist()\n",
    "\n",
    "# 斷詞處理\n",
    "tokenized_corpus = [list(jieba.cut(desc)) for desc in descriptions]\n",
    "\n",
    "# 建立 BM25 模型\n",
    "bm25 = BM25Okapi(tokenized_corpus)\n",
    "\n",
    "# 用戶輸入\n",
    "user_query = \"軒轅劍 角色扮演\"\n",
    "tokenized_query = list(jieba.cut(user_query))\n",
    "\n",
    "# 計算 BM25 分數\n",
    "scores = bm25.get_scores(tokenized_query)\n",
    "\n",
    "# 找到最相關的電影\n",
    "top_k = 3  # 取前 3 筆\n",
    "top_indices = sorted(range(len(scores)), key=lambda i: scores[i], reverse=True)[:top_k]\n",
    "\n",
    "# 輸出結果\n",
    "for idx in top_indices:\n",
    "    print(f\"相關電影: {df.iloc[idx]['game_title']} (分數: {scores[idx]})\")\n"
   ]
  },
  {
   "cell_type": "code",
   "execution_count": 101,
   "metadata": {},
   "outputs": [
    {
     "name": "stdout",
     "output_type": "stream",
     "text": [
      "賴納 | • | 文格爾 |   | 德國 | 所 | 高中 | 老師 | ， | 該學 | 校正 | 進行 | “ | 國家 | 體制 | ” | 主題 | 活動周 | 。 | 喜歡 | “ | 無 | 政府 | 主義 | ” | 課 | 另 | 老師 | 捷足先登 | ， | 主講 | “ | 獨裁 | 統治 | ” | 課程 | 。 |   | 對 | 自由散漫 | 學生 | 們 | ， | 任何 | 課程 | 為 | 學分 | 上 | 。 | 課上 | 大聲 | 聊天 | ， | 無心 | 聽講 | 。 | 文格爾別 | 心裁 | 提出 | 假想 | “ | 獨裁 | ” | 實驗 | 。 | 為期 | 一周 | 實驗 | 中 | ， | 文格爾 | 置 | 至 | 高無上 | 地位 | ， | 學生 | 們 | 對 | 絕對服 | 。 | 最初 | 玩樂 | 心態 | ， | 青年 | 男女 | 沉湎 | 名為 | “ | 浪潮 | ” | 組織 | 中 | ， | 體會 | 集體 | 紀律 | 重要性 | ， | 不知 | 不覺 | 中 | 滑向 | “ | 獨裁 | ” | “ | 納粹 | ” | 深淵 | … | …\n"
     ]
    }
   ],
   "source": [
    "import jieba\n",
    "\n",
    "# 加載自定義詞典，確保專有名詞不會被錯誤切開\n",
    "jieba.load_userdict(\"custom_dict.txt\")  \n",
    "\n",
    "# 停用詞\n",
    "stopwords = set([\n",
    "    '的', '了', '是', '在', '和', '也', '有', '就', '都', '與', '及', '或', '而', '於', '被', '因', '欲', '其',\n",
    "    '由', '不', '我們', '你們', '他們', '她們', '它們', '自己', '這', '那', '哪', '什麼', '怎麼', '如何', '這次', \n",
    "    '為什麼', '呢', '嗎', '吧', '頃刻間', '片中', '即將', '多多', '只能', '如', '哼', '呃', '嗯', '他', '哈哈', '噢', \n",
    "    '最', '很', '之間', '不料', '影片', '主要', '講述', '當晚', '本', '嘿喲', '這個', '那個', '這樣', '那樣',\n",
    "    '某', '每', '各', '所有', '一些', '幾乎', '幾', '仍然', '仍', '既', '又', '還', '但是', '然而', '所以', '除了',\n",
    "    '因此', '不過', '雖然', '儘管', '如果', '即使', '除非', '或者', '要麼', '不僅', '而且', '此外', '比如',\n",
    "    '例如', '像', '以及', '甚至', '再者', '總之', '其實', '基本上', '大約', '大概', '或者', '或許', '可能', \n",
    "    '應該', '必須', '需要', '得', '能', '可以', '會', '要', '讓', '叫', '成', '給', '向', '跟', '從', \n",
    "    '把', '並', '只', '僅', '只是', '才', '即', '乃', '原來', '正是', '簡直', '真是', '特別', '尤其', '倒是', \n",
    "    '反而', '反過來', '一種','一位', '一名', '一個', '一株', '一台', '一艘', '無論', '不管', '無法', '無法避免',\n",
    "    '無法拒絕', '是否', '既然', '當然', '果然', '還是', '或者', '以至於', '因此', '因而', '甚至於', '並且', '不然', \n",
    "    '否則', '不如', '不僅如此', '換句話說', '例如', '比如', '拿...來說', '正如', '正所謂', '話說回來', '另一個',\n",
    "    '進而', '另外', '不過', '還有', '既然', '然而', '總而言之', '總的來說', '總之', '即便', '哪怕', '一場', '一段', \n",
    "    '雖然', '儘管', '至於', '則', '反之', '因為', '為了', '由於', '所以', '於是', '假如', '如果', '它', '劇情描述', \n",
    "    '要是', '可是', '但', '但是', '然而', '卻', '不過', '只不過', '而已', '除非', '以免', '免得', '竟然', '劇情', \n",
    "    '一輛', '一部', '來了之後', '一天', '以其', '一份', '我', '想', '但只要', '當然', '這讓', '本片', '這是', '牠們', '牠', '她', '背景設定', '講述', '電影描述', '故事描述', '劇情敘述', '敘述', '講述', '大家', '各位', '某人', '某些人', '某事', '某種', '這些', '那些', '如此', '這般', '那般', '這時', '那時', '這裡', '那裡', '何時', '何地', '哪裡', '誰', '某個', '某位', '今天', '昨天', '明天', '後天', '大前天', '大後天', '今年', '去年', '明年', '前天', '這時候', '此刻', '剛才', '剛剛', '頃刻', '瞬間', '一會兒', '等會兒', '頃', '不久', '過去', '當年', '長久', '以來', '一點', '一滴', '一絲', '一些', '一堆', '一群', '一批', '一段', '一會兒', '數個', '數十', '數百', '很多', '無數', '千萬', '若干', '一整天', '整個', '大部分', '半數', '少許', '部分', '許多', '幾年', '多年', '數年',  '來', '去', '走', '做', '幹', '進', '出', '到', '看', '聽', '說', '問', '答', '告訴', '回', '開', '關', '起', '坐', '站', '跑', '跳', '拉', '推', '扔', '拿', '給', '帶', '進入', '離開', '變成', '成為', '擁有', '獲得', '得到', '感覺', '覺得', '知道', '了解', '認識', '發現', '明白', '想', '思考', '希望', '簡直', '完全', '十分', '非常', '特別', '極其', '格外', '無比', '超級', '極端', '萬分', '相當', '故事', '影片', '內容', '電影', '描述', '情節', '劇情', '本片', '這部', '這場', '這件', '這部電影', '該片', '本作', '此片', '該電影', '全片', '該作', '這款', '這本', '該故事', '這是一部', '這是一個', '最後', '彼此', '漸漸', '越來越'\n",
    "])\n",
    "\n",
    "# 原始文本\n",
    "text = \"賴納•文格爾 是德國某所高中的老師，該學校正在進行“國家體制”的主題活動周。由於他最喜歡的“無政府主義”課被另一位老師捷足先登，因此他只能主講“獨裁統治”課程。 對於自由散漫的學生們來說，任何課程都只是為了學分而上。他們在課上大聲聊天，無心聽講。文格爾別出心裁提出假想“獨裁”的實驗。在為期一周的實驗中，文格爾被置於至高無上的地位，學生們對他要絕對服從。從最初的玩樂心態，這些青年男女漸漸沉湎這個名為“浪潮”的組織中，他們體會到集體和紀律的重要性，卻在不知不覺中滑向了“獨裁”與“納粹”的深淵……\"\n",
    "\n",
    "# 斷詞並去停用詞\n",
    "seg_list = jieba.cut(text, cut_all=False)\n",
    "filtered_words = [word for word in seg_list if word not in stopwords]\n",
    "\n",
    "# 顯示結果\n",
    "print(\" | \".join(filtered_words))"
   ]
  },
  {
   "cell_type": "code",
   "execution_count": 169,
   "metadata": {},
   "outputs": [
    {
     "name": "stdout",
     "output_type": "stream",
     "text": [
      "從 c:\\Users\\User\\Desktop\\TMDB_ByPython\\CombineFile\\original_data/dataMovie.xlsx 讀取數據...\n",
      "刪除沒有電影簡介的資料...\n",
      "處理後剩餘資料筆數：7234\n",
      "Excel 數據讀取完成。\n",
      "從 c:\\Users\\User\\Desktop\\TMDB_ByPython\\CombineFile\\original_data/dataGame.xlsx 讀取數據...\n",
      "刪除沒有遊戲簡介的資料...\n",
      "處理後剩餘資料筆數：13197\n",
      "Excel 數據讀取完成。\n",
      "載入 sentence-transformers/paraphrase-multilingual-MiniLM-L12-v2 模型中...\n"
     ]
    },
    {
     "name": "stderr",
     "output_type": "stream",
     "text": [
      "c:\\Users\\User\\anaconda3\\envs\\web_scraping\\lib\\site-packages\\transformers\\tokenization_utils_base.py:1601: FutureWarning: `clean_up_tokenization_spaces` was not set. It will be set to `True` by default. This behavior will be depracted in transformers v4.45, and will be then set to `False` by default. For more details check this issue: https://github.com/huggingface/transformers/issues/31884\n",
      "  warnings.warn(\n"
     ]
    },
    {
     "name": "stdout",
     "output_type": "stream",
     "text": [
      "生成嵌入向量...\n"
     ]
    },
    {
     "name": "stderr",
     "output_type": "stream",
     "text": [
      "Batches: 100%|██████████| 453/453 [07:18<00:00,  1.03it/s]\n"
     ]
    },
    {
     "name": "stdout",
     "output_type": "stream",
     "text": [
      "創建 FAISS 索引...\n",
      "保存索引到 c:\\Users\\User\\Desktop\\TMDB_ByPython\\CombineFile\\vector_data/movies_excel_vector.index\n",
      "保存 ID 映射...\n",
      "向量索引創建成功\n",
      "載入 sentence-transformers/paraphrase-multilingual-MiniLM-L12-v2 模型中...\n",
      "生成嵌入向量...\n"
     ]
    },
    {
     "name": "stderr",
     "output_type": "stream",
     "text": [
      "Batches: 100%|██████████| 825/825 [09:07<00:00,  1.51it/s]\n"
     ]
    },
    {
     "name": "stdout",
     "output_type": "stream",
     "text": [
      "創建 FAISS 索引...\n",
      "保存索引到 c:\\Users\\User\\Desktop\\TMDB_ByPython\\CombineFile\\vector_data/games_excel_vector.index\n",
      "保存 ID 映射...\n",
      "向量索引創建成功\n",
      "所有操作完成！\n"
     ]
    }
   ],
   "source": [
    "import os\n",
    "from sentence_transformers import SentenceTransformer\n",
    "import faiss\n",
    "import pickle\n",
    "import numpy as np\n",
    "\n",
    "# 取得當前工作目錄 (cwd)\n",
    "cwd = os.getcwd()\n",
    "\n",
    "# 組合成正確的檔案路徑\n",
    "file_path = os.path.join(cwd, \"original_data/dataGame_dropna.csv\")\n",
    "\n",
    "# 讀取 CSV\n",
    "df = pd.read_csv(file_path)\n",
    "\n",
    "# 設定模型名稱\n",
    "MODEL_NAME = 'sentence-transformers/paraphrase-multilingual-MiniLM-L12-v2'\n",
    "\n",
    "# 檔案路徑\n",
    "MOVIES_EXCEL = os.path.join(cwd, \"original_data/dataMovie.xlsx\")\n",
    "GAMES_EXCEL = os.path.join(cwd, \"original_data/dataGame.xlsx\")\n",
    "MOVIES_INDEX_PATH = os.path.join(cwd, \"vector_data/movies_excel_vector.index\")\n",
    "GAMES_INDEX_PATH = os.path.join(cwd, \"vector_data/games_excel_vector.index\")\n",
    "MOVIES_IDS_PATH = os.path.join(cwd, \"vector_data/movies_excel_ids.pkl\")\n",
    "GAMES_IDS_PATH = os.path.join(cwd, \"vector_data/games_excel_ids.pkl\")\n",
    "\n",
    "def read_excel_data(file_path, is_movie=True):\n",
    "    \"\"\"從 Excel 文件讀取數據\"\"\"\n",
    "    try:\n",
    "        print(f\"從 {file_path} 讀取數據...\")\n",
    "        data = pd.read_excel(file_path)\n",
    "\n",
    "        # 检查是否有数据\n",
    "        if data.empty:\n",
    "            raise ValueError(f\"Excel 文件 {file_path} 中沒有數據。\")\n",
    "        \n",
    "        # 根據數據類型刪除沒有簡介的資料\n",
    "        if is_movie:\n",
    "            print(\"刪除沒有電影簡介的資料...\")\n",
    "            data = data.dropna(subset=['movie_description'])\n",
    "        else:\n",
    "            print(\"刪除沒有遊戲簡介的資料...\")\n",
    "            data = data.dropna(subset=['game_description'])\n",
    "\n",
    "        # 確認是否還有足夠的資料\n",
    "        if data.empty:\n",
    "            raise ValueError(f\"刪除空值後沒有剩餘資料\")\n",
    "        else:\n",
    "            print(f\"處理後剩餘資料筆數：{len(data)}\")\n",
    "\n",
    "        print(\"Excel 數據讀取完成。\")\n",
    "        return data\n",
    "    except Exception as e:\n",
    "        print(f\"讀取 Excel 文件時發生錯誤：{str(e)}\")\n",
    "        raise e\n",
    "    \n",
    "def create_vector_index_from_excel(data, is_movie=True):\n",
    "    \"\"\"從Excel創建向量索引\"\"\"\n",
    "    try:\n",
    "        # 載入模型\n",
    "        print(f\"載入 {MODEL_NAME} 模型中...\")\n",
    "        model = SentenceTransformer(MODEL_NAME)\n",
    "\n",
    "        # 根據電影/遊戲\"簡述\"生成嵌入向量\n",
    "        if is_movie:\n",
    "            combined_texts = [\n",
    "                f\"{row['movie_description']}\"\n",
    "                for _, row in data.iterrows()\n",
    "            ]\n",
    "            index_path = MOVIES_INDEX_PATH\n",
    "            ids_path = MOVIES_IDS_PATH\n",
    "        else:\n",
    "            combined_texts = [\n",
    "                f\"{row['game_description']}\"\n",
    "                for _, row in data.iterrows()\n",
    "            ]\n",
    "            index_path = GAMES_INDEX_PATH\n",
    "            ids_path = GAMES_IDS_PATH\n",
    "\n",
    "        print(\"生成嵌入向量...\")\n",
    "        embeddings = model.encode(\n",
    "            combined_texts,\n",
    "            batch_size=16,\n",
    "            show_progress_bar=True,\n",
    "            # normalize_embeddings=True\n",
    "        )\n",
    "\n",
    "        embeddings = embeddings / np.linalg.norm(embeddings, axis=1, keepdims=True)  # 正規化\n",
    "\n",
    "        # 創建 FAISS 索引\n",
    "        print(\"創建 FAISS 索引...\")\n",
    "        dimension = embeddings.shape[1]\n",
    "        index = faiss.IndexFlatIP(dimension)\n",
    "        index = faiss.IndexIDMap(index)\n",
    "\n",
    "        # 添加向量到索引\n",
    "        ids = data['id'].values.astype('int64')\n",
    "        index.add_with_ids(embeddings.astype('float32'), ids)\n",
    "\n",
    "        # 保存索引\n",
    "        print(f\"保存索引到 {index_path}\")\n",
    "        faiss.write_index(index, index_path)\n",
    "\n",
    "        # 保存 ID 映射\n",
    "        print(\"保存 ID 映射...\")\n",
    "        if is_movie:\n",
    "            ids_dict = {\n",
    "                row['id']: {\n",
    "                    'title': row['movie_title'],\n",
    "                    'genre': row['movie_genre'],\n",
    "                    'type': 'movie'\n",
    "                }\n",
    "                for _, row in data.iterrows()\n",
    "            }\n",
    "        else:\n",
    "            ids_dict = {\n",
    "                row['id']: {\n",
    "                    'title': row['game_title'],\n",
    "                    'genre': row['game_genre'],\n",
    "                    'type': 'game'\n",
    "                }\n",
    "                for _, row in data.iterrows()\n",
    "            }\n",
    "            \n",
    "        with open(ids_path, 'wb') as f:\n",
    "            pickle.dump(ids_dict, f)\n",
    "\n",
    "        print(\"向量索引創建成功\")\n",
    "    except Exception as e:\n",
    "        print(f\"創建向量索引時發生錯誤：{str(e)}\")\n",
    "        raise e\n",
    "    \n",
    "def main():\n",
    "    try:\n",
    "        # 分別讀取電影和遊戲數據\n",
    "        movies_data = read_excel_data(MOVIES_EXCEL, is_movie=True)\n",
    "        games_data = read_excel_data(GAMES_EXCEL, is_movie=False)\n",
    "\n",
    "        # 分別創建向量索引\n",
    "        create_vector_index_from_excel(movies_data, is_movie=True)\n",
    "        create_vector_index_from_excel(games_data, is_movie=False)\n",
    "        \n",
    "        print(\"所有操作完成！\")\n",
    "    except Exception as e:\n",
    "        print(f\"程序執行時發生錯誤：{str(e)}\")\n",
    "        raise e\n",
    "\n",
    "if __name__ == \"__main__\":\n",
    "    main()\n"
   ]
  },
  {
   "cell_type": "code",
   "execution_count": 170,
   "metadata": {},
   "outputs": [
    {
     "name": "stdout",
     "output_type": "stream",
     "text": [
      "載入 sentence-transformers/paraphrase-multilingual-MiniLM-L12-v2 模型...\n",
      "載入電影與遊戲FAISS索引...\n",
      "Movie vectors: 7234 條向量, 維度: 384\n",
      "Game vectors: 13197 條向量, 維度: 384\n",
      "載入電影與遊戲 ID 映射...\n",
      "搜尋語義相似度... (類型: 電影)\n",
      "搜尋語義相似度... (類型: 遊戲)\n",
      "\n",
      "🎬 最相似的電影:\n",
      "{'title': '星際大戰二部曲：複製人全面進攻', 'genre': '冒險, 動作, 科幻', 'type': 'movie'}: 0.7204\n",
      "{'title': '復仇者聯盟：無限之戰', 'genre': '冒險, 動作, 科幻', 'type': 'movie'}: 0.7178\n",
      "{'title': '環太平洋2：起義時刻', 'genre': '動作, 奇幻, 科幻, 冒險', 'type': 'movie'}: 0.7093\n",
      "{'title': '星際大戰外傳：韓索羅', 'genre': '科幻, 冒險, 動作', 'type': 'movie'}: 0.6817\n",
      "{'title': '明日邊界', 'genre': '動作, 科幻', 'type': 'movie'}: 0.6779\n",
      "\n",
      "🎮 最相似的遊戲:\n",
      "{'title': '銀河司令部', 'genre': '飛行射擊', 'type': 'game'}: 0.7294\n",
      "{'title': '索爾之戰', 'genre': '飛行射擊', 'type': 'game'}: 0.7227\n",
      "{'title': '宇宙戰爭', 'genre': '模擬遊戲', 'type': 'game'}: 0.6921\n",
      "{'title': '深入敵後：雷神戰爭', 'genre': '第一人稱射擊', 'type': 'game'}: 0.6871\n",
      "{'title': '礦工戰場', 'genre': '飛行射擊', 'type': 'game'}: 0.6775\n"
     ]
    }
   ],
   "source": [
    "import numpy as np\n",
    "import pickle\n",
    "import faiss\n",
    "from sentence_transformers import SentenceTransformer\n",
    "from sklearn.metrics.pairwise import cosine_similarity\n",
    "import os\n",
    "\n",
    "# 取得當前工作目錄 (cwd)\n",
    "cwd = os.getcwd()\n",
    "\n",
    "# 設定模型名稱\n",
    "MODEL_NAME = 'sentence-transformers/paraphrase-multilingual-MiniLM-L12-v2'\n",
    "\n",
    "# 檔案路徑\n",
    "MOVIES_INDEX_PATH = os.path.join(cwd, \"vector_data/movies_excel_vector.index\")\n",
    "GAMES_INDEX_PATH = os.path.join(cwd, \"vector_data/games_excel_vector.index\")\n",
    "MOVIES_IDS_PATH = os.path.join(cwd, \"vector_data/movies_excel_ids.pkl\")\n",
    "GAMES_IDS_PATH = os.path.join(cwd, \"vector_data/games_excel_ids.pkl\")\n",
    "\n",
    "# 載入模型\n",
    "print(f\"載入 {MODEL_NAME} 模型...\")\n",
    "model = SentenceTransformer(MODEL_NAME)\n",
    "\n",
    "# 載入事先計算好的FAISS索引\n",
    "print(\"載入電影與遊戲FAISS索引...\")\n",
    "movie_vectors = faiss.read_index(MOVIES_INDEX_PATH)\n",
    "game_vectors = faiss.read_index(GAMES_INDEX_PATH)\n",
    "\n",
    "print(f\"Movie vectors: {movie_vectors.ntotal} 條向量, 維度: {movie_vectors.d}\")\n",
    "print(f\"Game vectors: {game_vectors.ntotal} 條向量, 維度: {game_vectors.d}\")\n",
    "\n",
    "\n",
    "# 載入 ID 映射\n",
    "print(\"載入電影與遊戲 ID 映射...\")\n",
    "with open(MOVIES_IDS_PATH, 'rb') as f:\n",
    "    movie_ids = pickle.load(f)\n",
    "with open(GAMES_IDS_PATH, 'rb') as f:\n",
    "    game_ids = pickle.load(f)\n",
    "\n",
    "def search_by_semantic(user_query, is_movie=True, top_k=5):\n",
    "    \"\"\"使用語義搜尋電影或遊戲\"\"\"\n",
    "    print(f\"搜尋語義相似度... (類型: {'電影' if is_movie else '遊戲'})\")\n",
    "    \n",
    "    # 取得查詢向量\n",
    "    query_vector = model.encode([user_query], normalize_embeddings=True)\n",
    "    \n",
    "    # 選擇對應的向量庫\n",
    "    vectors = movie_vectors if is_movie else game_vectors\n",
    "    \n",
    "    # 使用 FAISS 進行相似度搜尋\n",
    "    top_k = min(top_k, vectors.ntotal)  # 避免超出索引範圍\n",
    "    D, I = vectors.search(query_vector, top_k)\n",
    "\n",
    "    # 根據 ID 映射回傳對應的標題與相似度分數\n",
    "    results = [(movie_ids[i] if is_movie else game_ids[i], D[0][idx]) for idx, i in enumerate(I[0]) if i != -1]\n",
    "    \n",
    "    return results\n",
    "\n",
    "# 測試搜尋\n",
    "query = \"宇宙 星際大戰\"\n",
    "result_movies = search_by_semantic(query, is_movie=True)\n",
    "result_games = search_by_semantic(query, is_movie=False)\n",
    "\n",
    "print(\"\\n🎬 最相似的電影:\")\n",
    "for title, score in result_movies:\n",
    "    print(f\"{title}: {score:.4f}\")\n",
    "\n",
    "print(\"\\n🎮 最相似的遊戲:\")\n",
    "for title, score in result_games:\n",
    "    print(f\"{title}: {score:.4f}\")"
   ]
  },
  {
   "cell_type": "code",
   "execution_count": null,
   "metadata": {},
   "outputs": [],
   "source": []
  }
 ],
 "metadata": {
  "kernelspec": {
   "display_name": "Python3@ws",
   "language": "python",
   "name": "ws"
  },
  "language_info": {
   "codemirror_mode": {
    "name": "ipython",
    "version": 3
   },
   "file_extension": ".py",
   "mimetype": "text/x-python",
   "name": "python",
   "nbconvert_exporter": "python",
   "pygments_lexer": "ipython3",
   "version": "3.10.14"
  }
 },
 "nbformat": 4,
 "nbformat_minor": 2
}
